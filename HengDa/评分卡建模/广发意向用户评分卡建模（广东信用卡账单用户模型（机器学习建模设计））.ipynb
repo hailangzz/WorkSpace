{
 "cells": [
  {
   "cell_type": "code",
   "execution_count": 1,
   "metadata": {},
   "outputs": [],
   "source": [
    "import pandas as pd\n",
    "import numpy as np\n",
    "import matplotlib.pyplot as plt\n",
    "import seaborn as sns\n",
    "import random\n",
    "import missingno as msno\n",
    "import pandas_profiling\n",
    "import warnings\n",
    "warnings.filterwarnings(\"ignore\")\n",
    "%matplotlib inline\n",
    "#解决中文显示问题\n",
    "plt.rcParams[\"font.sans-serif\"] = [u\"SimHei\"]\n",
    "plt.rcParams[\"axes.unicode_minus\"] = False\n",
    "#解决图中负号问题\n",
    "plt.rcParams['axes.unicode_minus']=False"
   ]
  },
  {
   "cell_type": "code",
   "execution_count": 2,
   "metadata": {},
   "outputs": [],
   "source": [
    "\n",
    "ChuanQi_basic_df = pd.read_excel('20190726广发_信用卡（广东）_清洗后.xlsx',header=0)"
   ]
  },
  {
   "cell_type": "code",
   "execution_count": 3,
   "metadata": {},
   "outputs": [
    {
     "data": {
      "text/html": [
       "<div>\n",
       "<style scoped>\n",
       "    .dataframe tbody tr th:only-of-type {\n",
       "        vertical-align: middle;\n",
       "    }\n",
       "\n",
       "    .dataframe tbody tr th {\n",
       "        vertical-align: top;\n",
       "    }\n",
       "\n",
       "    .dataframe thead th {\n",
       "        text-align: right;\n",
       "    }\n",
       "</style>\n",
       "<table border=\"1\" class=\"dataframe\">\n",
       "  <thead>\n",
       "    <tr style=\"text-align: right;\">\n",
       "      <th></th>\n",
       "      <th>target</th>\n",
       "      <th>MESSAGE</th>\n",
       "      <th>arpu</th>\n",
       "      <th>arpu_avg</th>\n",
       "      <th>called</th>\n",
       "      <th>calling</th>\n",
       "      <th>card_type</th>\n",
       "      <th>gprs</th>\n",
       "      <th>netlong</th>\n",
       "      <th>myth_fee</th>\n",
       "      <th>...</th>\n",
       "      <th>sex</th>\n",
       "      <th>owner_city_level</th>\n",
       "      <th>arpu_derive_1</th>\n",
       "      <th>arpu_avg_derive_1</th>\n",
       "      <th>called_derive_1</th>\n",
       "      <th>calling_derive_1</th>\n",
       "      <th>netlong_derive_1</th>\n",
       "      <th>prdct_fee_avg_derive_1</th>\n",
       "      <th>gprs_derive_1</th>\n",
       "      <th>MESSAGE_derive_1</th>\n",
       "    </tr>\n",
       "  </thead>\n",
       "  <tbody>\n",
       "    <tr>\n",
       "      <th>0</th>\n",
       "      <td>0</td>\n",
       "      <td>8</td>\n",
       "      <td>203.1</td>\n",
       "      <td>203.600001</td>\n",
       "      <td>258</td>\n",
       "      <td>211</td>\n",
       "      <td>0</td>\n",
       "      <td>34.433232</td>\n",
       "      <td>9999</td>\n",
       "      <td>0</td>\n",
       "      <td>...</td>\n",
       "      <td>9999</td>\n",
       "      <td>1</td>\n",
       "      <td>1429.9845</td>\n",
       "      <td>627.5000</td>\n",
       "      <td>312.5</td>\n",
       "      <td>183.0</td>\n",
       "      <td>9999.0000</td>\n",
       "      <td>604.5</td>\n",
       "      <td>88.4035</td>\n",
       "      <td>7.5</td>\n",
       "    </tr>\n",
       "    <tr>\n",
       "      <th>1</th>\n",
       "      <td>0</td>\n",
       "      <td>999999</td>\n",
       "      <td>9999.0</td>\n",
       "      <td>9999.000000</td>\n",
       "      <td>9999</td>\n",
       "      <td>9999</td>\n",
       "      <td>0</td>\n",
       "      <td>999999.000000</td>\n",
       "      <td>9</td>\n",
       "      <td>9999</td>\n",
       "      <td>...</td>\n",
       "      <td>9999</td>\n",
       "      <td>1</td>\n",
       "      <td>9999.0000</td>\n",
       "      <td>9999.0000</td>\n",
       "      <td>9999.0</td>\n",
       "      <td>9999.0</td>\n",
       "      <td>4.9995</td>\n",
       "      <td>9999.0</td>\n",
       "      <td>999999.0000</td>\n",
       "      <td>999999.0</td>\n",
       "    </tr>\n",
       "    <tr>\n",
       "      <th>2</th>\n",
       "      <td>0</td>\n",
       "      <td>999999</td>\n",
       "      <td>0.0</td>\n",
       "      <td>0.000000</td>\n",
       "      <td>9999</td>\n",
       "      <td>9999</td>\n",
       "      <td>3</td>\n",
       "      <td>999999.000000</td>\n",
       "      <td>6</td>\n",
       "      <td>0</td>\n",
       "      <td>...</td>\n",
       "      <td>9999</td>\n",
       "      <td>1</td>\n",
       "      <td>0.0000</td>\n",
       "      <td>0.0000</td>\n",
       "      <td>9999.0</td>\n",
       "      <td>9999.0</td>\n",
       "      <td>4.9995</td>\n",
       "      <td>0.0</td>\n",
       "      <td>999999.0000</td>\n",
       "      <td>999999.0</td>\n",
       "    </tr>\n",
       "    <tr>\n",
       "      <th>3</th>\n",
       "      <td>0</td>\n",
       "      <td>32</td>\n",
       "      <td>124.9</td>\n",
       "      <td>123.166667</td>\n",
       "      <td>157</td>\n",
       "      <td>281</td>\n",
       "      <td>3</td>\n",
       "      <td>16.246631</td>\n",
       "      <td>9999</td>\n",
       "      <td>0</td>\n",
       "      <td>...</td>\n",
       "      <td>1</td>\n",
       "      <td>1</td>\n",
       "      <td>128.2770</td>\n",
       "      <td>125.5915</td>\n",
       "      <td>193.0</td>\n",
       "      <td>308.5</td>\n",
       "      <td>9999.0000</td>\n",
       "      <td>113.0</td>\n",
       "      <td>88.4035</td>\n",
       "      <td>55.5</td>\n",
       "    </tr>\n",
       "    <tr>\n",
       "      <th>4</th>\n",
       "      <td>0</td>\n",
       "      <td>999999</td>\n",
       "      <td>9999.0</td>\n",
       "      <td>9999.000000</td>\n",
       "      <td>9999</td>\n",
       "      <td>9999</td>\n",
       "      <td>3</td>\n",
       "      <td>999999.000000</td>\n",
       "      <td>12</td>\n",
       "      <td>9999</td>\n",
       "      <td>...</td>\n",
       "      <td>9999</td>\n",
       "      <td>1</td>\n",
       "      <td>9999.0000</td>\n",
       "      <td>9999.0000</td>\n",
       "      <td>9999.0</td>\n",
       "      <td>9999.0</td>\n",
       "      <td>12.0000</td>\n",
       "      <td>9999.0</td>\n",
       "      <td>999999.0000</td>\n",
       "      <td>999999.0</td>\n",
       "    </tr>\n",
       "  </tbody>\n",
       "</table>\n",
       "<p>5 rows × 25 columns</p>\n",
       "</div>"
      ],
      "text/plain": [
       "   target  MESSAGE    arpu     arpu_avg  called  calling  card_type  \\\n",
       "0       0        8   203.1   203.600001     258      211          0   \n",
       "1       0   999999  9999.0  9999.000000    9999     9999          0   \n",
       "2       0   999999     0.0     0.000000    9999     9999          3   \n",
       "3       0       32   124.9   123.166667     157      281          3   \n",
       "4       0   999999  9999.0  9999.000000    9999     9999          3   \n",
       "\n",
       "            gprs  netlong  myth_fee        ...          sex  owner_city_level  \\\n",
       "0      34.433232     9999         0        ...         9999                 1   \n",
       "1  999999.000000        9      9999        ...         9999                 1   \n",
       "2  999999.000000        6         0        ...         9999                 1   \n",
       "3      16.246631     9999         0        ...            1                 1   \n",
       "4  999999.000000       12      9999        ...         9999                 1   \n",
       "\n",
       "  arpu_derive_1  arpu_avg_derive_1  called_derive_1  calling_derive_1  \\\n",
       "0     1429.9845           627.5000            312.5             183.0   \n",
       "1     9999.0000          9999.0000           9999.0            9999.0   \n",
       "2        0.0000             0.0000           9999.0            9999.0   \n",
       "3      128.2770           125.5915            193.0             308.5   \n",
       "4     9999.0000          9999.0000           9999.0            9999.0   \n",
       "\n",
       "   netlong_derive_1  prdct_fee_avg_derive_1  gprs_derive_1  MESSAGE_derive_1  \n",
       "0         9999.0000                   604.5        88.4035               7.5  \n",
       "1            4.9995                  9999.0    999999.0000          999999.0  \n",
       "2            4.9995                     0.0    999999.0000          999999.0  \n",
       "3         9999.0000                   113.0        88.4035              55.5  \n",
       "4           12.0000                  9999.0    999999.0000          999999.0  \n",
       "\n",
       "[5 rows x 25 columns]"
      ]
     },
     "execution_count": 3,
     "metadata": {},
     "output_type": "execute_result"
    }
   ],
   "source": [
    "ChuanQi_basic_df.head()"
   ]
  },
  {
   "cell_type": "code",
   "execution_count": 4,
   "metadata": {},
   "outputs": [
    {
     "data": {
      "text/plain": [
       "Index(['target', 'MESSAGE', 'arpu', 'arpu_avg', 'called', 'calling',\n",
       "       'card_type', 'gprs', 'netlong', 'myth_fee', 'myth_fee_avg',\n",
       "       'out_prdct_fee', 'owner_city', 'point_fee', 'prdct_fee_avg', 'sex',\n",
       "       'owner_city_level', 'arpu_derive_1', 'arpu_avg_derive_1',\n",
       "       'called_derive_1', 'calling_derive_1', 'netlong_derive_1',\n",
       "       'prdct_fee_avg_derive_1', 'gprs_derive_1', 'MESSAGE_derive_1'],\n",
       "      dtype='object')"
      ]
     },
     "execution_count": 4,
     "metadata": {},
     "output_type": "execute_result"
    }
   ],
   "source": [
    "ChuanQi_basic_df.columns"
   ]
  },
  {
   "cell_type": "code",
   "execution_count": 5,
   "metadata": {},
   "outputs": [],
   "source": [
    "usefulcolumns=['target', 'MESSAGE', 'arpu', 'arpu_avg', 'called', 'calling',\n",
    "               'card_type', 'gprs', 'netlong', 'myth_fee', 'myth_fee_avg',\n",
    "               'out_prdct_fee', 'point_fee', 'prdct_fee_avg', 'sex','owner_city_level',]\n",
    "ChuanQi_basic_df=ChuanQi_basic_df[usefulcolumns]"
   ]
  },
  {
   "cell_type": "code",
   "execution_count": 6,
   "metadata": {},
   "outputs": [],
   "source": [
    "def DealOriginData(ChuanQi_basic_df):\n",
    "    import copy\n",
    "    xy_6=copy.deepcopy(ChuanQi_basic_df)\n",
    "    xy_6['prdct_fee_avg'][(xy_6['prdct_fee_avg']>600)&(xy_6['prdct_fee_avg']<9999)]=600\n",
    "    xy_6['prdct_fee_avg'][(xy_6['prdct_fee_avg']==9999)]=0\n",
    "    \n",
    "    xy_6['netlong'][(xy_6['netlong']==9999)]=58\n",
    "\n",
    "    xy_6['gprs'][(xy_6['gprs']==999999)]=0\n",
    "    xy_6['gprs'][(xy_6['gprs']>88.4)&(xy_6['gprs']<999999)]=1.5\n",
    "    xy_6['gprs'][(xy_6['gprs']>12)&(xy_6['gprs']<88.4)]=5.8\n",
    "\n",
    "    xy_6['calling'][(xy_6['calling']==9999)]=0\n",
    "    xy_6['called'][(xy_6['called']==9999)]=0\n",
    "\n",
    "\n",
    "    xy_6['arpu'][(xy_6['arpu']>600)&(xy_6['arpu']<9999)]=600\n",
    "    xy_6['arpu'][(xy_6['arpu']==9999)]=0\n",
    "\n",
    "    xy_6['arpu_avg'][(xy_6['arpu_avg']>600)&(xy_6['arpu_avg']<9999)]=600\n",
    "    xy_6['arpu_avg'][(xy_6['arpu_avg']==9999)]=0\n",
    "\n",
    "    xy_6['MESSAGE'][(xy_6['MESSAGE']==999999)]=0\n",
    "\n",
    "    # card_type\n",
    "    card_typemap={0:0,2:0,4:0,1:1,3:2,8:2}\n",
    "    xy_6['card_type'].replace(card_typemap,inplace=True)\n",
    "\n",
    "    # owner_city_level\n",
    "    citylevelmap={6:0,9:0,8:1,7:1,9999:1,1:2,3:3}\n",
    "    xy_6['owner_city_level'].replace(citylevelmap,inplace=True)\n",
    "    return xy_6\n",
    "Deal_ChuanQi_basic_df=DealOriginData(ChuanQi_basic_df)"
   ]
  },
  {
   "cell_type": "code",
   "execution_count": 7,
   "metadata": {},
   "outputs": [
    {
     "data": {
      "text/html": [
       "<div>\n",
       "<style scoped>\n",
       "    .dataframe tbody tr th:only-of-type {\n",
       "        vertical-align: middle;\n",
       "    }\n",
       "\n",
       "    .dataframe tbody tr th {\n",
       "        vertical-align: top;\n",
       "    }\n",
       "\n",
       "    .dataframe thead th {\n",
       "        text-align: right;\n",
       "    }\n",
       "</style>\n",
       "<table border=\"1\" class=\"dataframe\">\n",
       "  <thead>\n",
       "    <tr style=\"text-align: right;\">\n",
       "      <th></th>\n",
       "      <th>target</th>\n",
       "      <th>MESSAGE</th>\n",
       "      <th>arpu</th>\n",
       "      <th>arpu_avg</th>\n",
       "      <th>called</th>\n",
       "      <th>calling</th>\n",
       "      <th>card_type</th>\n",
       "      <th>gprs</th>\n",
       "      <th>netlong</th>\n",
       "      <th>myth_fee</th>\n",
       "      <th>myth_fee_avg</th>\n",
       "      <th>out_prdct_fee</th>\n",
       "      <th>point_fee</th>\n",
       "      <th>prdct_fee_avg</th>\n",
       "      <th>sex</th>\n",
       "      <th>owner_city_level</th>\n",
       "    </tr>\n",
       "  </thead>\n",
       "  <tbody>\n",
       "    <tr>\n",
       "      <th>0</th>\n",
       "      <td>0</td>\n",
       "      <td>8</td>\n",
       "      <td>203.1</td>\n",
       "      <td>203.600001</td>\n",
       "      <td>258</td>\n",
       "      <td>211</td>\n",
       "      <td>0</td>\n",
       "      <td>5.8</td>\n",
       "      <td>58</td>\n",
       "      <td>0</td>\n",
       "      <td>0</td>\n",
       "      <td>0</td>\n",
       "      <td>1</td>\n",
       "      <td>199.0</td>\n",
       "      <td>9999</td>\n",
       "      <td>2</td>\n",
       "    </tr>\n",
       "    <tr>\n",
       "      <th>1</th>\n",
       "      <td>0</td>\n",
       "      <td>0</td>\n",
       "      <td>0.0</td>\n",
       "      <td>0.000000</td>\n",
       "      <td>0</td>\n",
       "      <td>0</td>\n",
       "      <td>0</td>\n",
       "      <td>0.0</td>\n",
       "      <td>9</td>\n",
       "      <td>9999</td>\n",
       "      <td>9999</td>\n",
       "      <td>9999</td>\n",
       "      <td>9999</td>\n",
       "      <td>0.0</td>\n",
       "      <td>9999</td>\n",
       "      <td>2</td>\n",
       "    </tr>\n",
       "    <tr>\n",
       "      <th>2</th>\n",
       "      <td>0</td>\n",
       "      <td>0</td>\n",
       "      <td>0.0</td>\n",
       "      <td>0.000000</td>\n",
       "      <td>0</td>\n",
       "      <td>0</td>\n",
       "      <td>2</td>\n",
       "      <td>0.0</td>\n",
       "      <td>6</td>\n",
       "      <td>0</td>\n",
       "      <td>0</td>\n",
       "      <td>0</td>\n",
       "      <td>0</td>\n",
       "      <td>0.0</td>\n",
       "      <td>9999</td>\n",
       "      <td>2</td>\n",
       "    </tr>\n",
       "    <tr>\n",
       "      <th>3</th>\n",
       "      <td>0</td>\n",
       "      <td>32</td>\n",
       "      <td>124.9</td>\n",
       "      <td>123.166667</td>\n",
       "      <td>157</td>\n",
       "      <td>281</td>\n",
       "      <td>2</td>\n",
       "      <td>5.8</td>\n",
       "      <td>58</td>\n",
       "      <td>0</td>\n",
       "      <td>0</td>\n",
       "      <td>0</td>\n",
       "      <td>1</td>\n",
       "      <td>118.0</td>\n",
       "      <td>1</td>\n",
       "      <td>2</td>\n",
       "    </tr>\n",
       "    <tr>\n",
       "      <th>4</th>\n",
       "      <td>0</td>\n",
       "      <td>0</td>\n",
       "      <td>0.0</td>\n",
       "      <td>0.000000</td>\n",
       "      <td>0</td>\n",
       "      <td>0</td>\n",
       "      <td>2</td>\n",
       "      <td>0.0</td>\n",
       "      <td>12</td>\n",
       "      <td>9999</td>\n",
       "      <td>9999</td>\n",
       "      <td>9999</td>\n",
       "      <td>9999</td>\n",
       "      <td>0.0</td>\n",
       "      <td>9999</td>\n",
       "      <td>2</td>\n",
       "    </tr>\n",
       "  </tbody>\n",
       "</table>\n",
       "</div>"
      ],
      "text/plain": [
       "   target  MESSAGE   arpu    arpu_avg  called  calling  card_type  gprs  \\\n",
       "0       0        8  203.1  203.600001     258      211          0   5.8   \n",
       "1       0        0    0.0    0.000000       0        0          0   0.0   \n",
       "2       0        0    0.0    0.000000       0        0          2   0.0   \n",
       "3       0       32  124.9  123.166667     157      281          2   5.8   \n",
       "4       0        0    0.0    0.000000       0        0          2   0.0   \n",
       "\n",
       "   netlong  myth_fee  myth_fee_avg  out_prdct_fee  point_fee  prdct_fee_avg  \\\n",
       "0       58         0             0              0          1          199.0   \n",
       "1        9      9999          9999           9999       9999            0.0   \n",
       "2        6         0             0              0          0            0.0   \n",
       "3       58         0             0              0          1          118.0   \n",
       "4       12      9999          9999           9999       9999            0.0   \n",
       "\n",
       "    sex  owner_city_level  \n",
       "0  9999                 2  \n",
       "1  9999                 2  \n",
       "2  9999                 2  \n",
       "3     1                 2  \n",
       "4  9999                 2  "
      ]
     },
     "metadata": {},
     "output_type": "display_data"
    },
    {
     "data": {
      "text/plain": [
       "Index(['target', 'MESSAGE', 'arpu', 'arpu_avg', 'called', 'calling',\n",
       "       'card_type', 'gprs', 'netlong', 'myth_fee', 'myth_fee_avg',\n",
       "       'out_prdct_fee', 'point_fee', 'prdct_fee_avg', 'sex',\n",
       "       'owner_city_level'],\n",
       "      dtype='object')"
      ]
     },
     "metadata": {},
     "output_type": "display_data"
    }
   ],
   "source": [
    "display(Deal_ChuanQi_basic_df.head(),Deal_ChuanQi_basic_df.columns)"
   ]
  },
  {
   "cell_type": "code",
   "execution_count": 8,
   "metadata": {},
   "outputs": [
    {
     "name": "stdout",
     "output_type": "stream",
     "text": [
      "0.8570447718495208\n",
      "[[29958     0]\n",
      " [ 4997     0]]\n",
      "             precision    recall  f1-score   support\n",
      "\n",
      "          0       0.86      1.00      0.92     29958\n",
      "          1       0.00      0.00      0.00      4997\n",
      "\n",
      "avg / total       0.73      0.86      0.79     34955\n",
      "\n"
     ]
    }
   ],
   "source": [
    "X1_data = Deal_ChuanQi_basic_df[[ 'MESSAGE', 'arpu', 'arpu_avg', 'called', 'calling',\n",
    "       'card_type', 'gprs', 'netlong', 'myth_fee', 'myth_fee_avg',\n",
    "       'out_prdct_fee', 'point_fee', 'prdct_fee_avg', 'sex',\n",
    "       'owner_city_level']]\n",
    "Y1_data = Deal_ChuanQi_basic_df['target']\n",
    "\n",
    "from sklearn.model_selection import train_test_split\n",
    "X1_train, X1_test, Y1_train, Y1_test = train_test_split(X1_data, Y1_data, test_size=0.5, random_state=0)\n",
    "\n",
    "\n",
    "from sklearn import svm\n",
    "from sklearn.metrics import accuracy_score\n",
    "from sklearn.metrics import confusion_matrix\n",
    "from sklearn.metrics import classification_report\n",
    "from sklearn.preprocessing import StandardScaler\n",
    "\n",
    "clf = svm.SVC(C=0.8, kernel='rbf', probability=True)\n",
    "\n",
    "SVM_Model=clf.fit(X1_train,Y1_train)\n",
    "predict_results1=SVM_Model.predict(X1_test)\n",
    "print(accuracy_score(predict_results1, Y1_test))\n",
    "conf_mat = confusion_matrix(Y1_test, predict_results1)\n",
    "print(conf_mat)\n",
    "print(classification_report(Y1_test, predict_results1))\n"
   ]
  },
  {
   "cell_type": "code",
   "execution_count": 9,
   "metadata": {},
   "outputs": [
    {
     "data": {
      "text/html": [
       "<div>\n",
       "<style scoped>\n",
       "    .dataframe tbody tr th:only-of-type {\n",
       "        vertical-align: middle;\n",
       "    }\n",
       "\n",
       "    .dataframe tbody tr th {\n",
       "        vertical-align: top;\n",
       "    }\n",
       "\n",
       "    .dataframe thead th {\n",
       "        text-align: right;\n",
       "    }\n",
       "</style>\n",
       "<table border=\"1\" class=\"dataframe\">\n",
       "  <thead>\n",
       "    <tr style=\"text-align: right;\">\n",
       "      <th></th>\n",
       "      <th>MESSAGE</th>\n",
       "      <th>arpu</th>\n",
       "      <th>arpu_avg</th>\n",
       "      <th>called</th>\n",
       "      <th>calling</th>\n",
       "      <th>card_type</th>\n",
       "      <th>gprs</th>\n",
       "      <th>netlong</th>\n",
       "      <th>myth_fee</th>\n",
       "      <th>myth_fee_avg</th>\n",
       "      <th>out_prdct_fee</th>\n",
       "      <th>point_fee</th>\n",
       "      <th>prdct_fee_avg</th>\n",
       "      <th>sex</th>\n",
       "      <th>owner_city_level</th>\n",
       "    </tr>\n",
       "  </thead>\n",
       "  <tbody>\n",
       "    <tr>\n",
       "      <th>23826</th>\n",
       "      <td>0</td>\n",
       "      <td>88.00</td>\n",
       "      <td>88.856667</td>\n",
       "      <td>0</td>\n",
       "      <td>0</td>\n",
       "      <td>2</td>\n",
       "      <td>0.000000</td>\n",
       "      <td>58</td>\n",
       "      <td>0</td>\n",
       "      <td>0</td>\n",
       "      <td>0</td>\n",
       "      <td>1</td>\n",
       "      <td>88.0</td>\n",
       "      <td>1</td>\n",
       "      <td>2</td>\n",
       "    </tr>\n",
       "    <tr>\n",
       "      <th>46511</th>\n",
       "      <td>2</td>\n",
       "      <td>58.00</td>\n",
       "      <td>58.000000</td>\n",
       "      <td>11</td>\n",
       "      <td>16</td>\n",
       "      <td>0</td>\n",
       "      <td>0.736514</td>\n",
       "      <td>30</td>\n",
       "      <td>0</td>\n",
       "      <td>0</td>\n",
       "      <td>0</td>\n",
       "      <td>1</td>\n",
       "      <td>8.0</td>\n",
       "      <td>9999</td>\n",
       "      <td>3</td>\n",
       "    </tr>\n",
       "    <tr>\n",
       "      <th>49640</th>\n",
       "      <td>2</td>\n",
       "      <td>61.09</td>\n",
       "      <td>45.763334</td>\n",
       "      <td>61</td>\n",
       "      <td>43</td>\n",
       "      <td>0</td>\n",
       "      <td>5.800000</td>\n",
       "      <td>33</td>\n",
       "      <td>0</td>\n",
       "      <td>0</td>\n",
       "      <td>0</td>\n",
       "      <td>1</td>\n",
       "      <td>38.0</td>\n",
       "      <td>1</td>\n",
       "      <td>0</td>\n",
       "    </tr>\n",
       "    <tr>\n",
       "      <th>3321</th>\n",
       "      <td>4</td>\n",
       "      <td>93.20</td>\n",
       "      <td>93.333331</td>\n",
       "      <td>143</td>\n",
       "      <td>80</td>\n",
       "      <td>0</td>\n",
       "      <td>6.934453</td>\n",
       "      <td>58</td>\n",
       "      <td>0</td>\n",
       "      <td>0</td>\n",
       "      <td>0</td>\n",
       "      <td>1</td>\n",
       "      <td>93.0</td>\n",
       "      <td>1</td>\n",
       "      <td>0</td>\n",
       "    </tr>\n",
       "    <tr>\n",
       "      <th>18729</th>\n",
       "      <td>14</td>\n",
       "      <td>92.08</td>\n",
       "      <td>91.290001</td>\n",
       "      <td>214</td>\n",
       "      <td>270</td>\n",
       "      <td>0</td>\n",
       "      <td>6.209580</td>\n",
       "      <td>58</td>\n",
       "      <td>0</td>\n",
       "      <td>0</td>\n",
       "      <td>0</td>\n",
       "      <td>1</td>\n",
       "      <td>88.0</td>\n",
       "      <td>9999</td>\n",
       "      <td>2</td>\n",
       "    </tr>\n",
       "  </tbody>\n",
       "</table>\n",
       "</div>"
      ],
      "text/plain": [
       "       MESSAGE   arpu   arpu_avg  called  calling  card_type      gprs  \\\n",
       "23826        0  88.00  88.856667       0        0          2  0.000000   \n",
       "46511        2  58.00  58.000000      11       16          0  0.736514   \n",
       "49640        2  61.09  45.763334      61       43          0  5.800000   \n",
       "3321         4  93.20  93.333331     143       80          0  6.934453   \n",
       "18729       14  92.08  91.290001     214      270          0  6.209580   \n",
       "\n",
       "       netlong  myth_fee  myth_fee_avg  out_prdct_fee  point_fee  \\\n",
       "23826       58         0             0              0          1   \n",
       "46511       30         0             0              0          1   \n",
       "49640       33         0             0              0          1   \n",
       "3321        58         0             0              0          1   \n",
       "18729       58         0             0              0          1   \n",
       "\n",
       "       prdct_fee_avg   sex  owner_city_level  \n",
       "23826           88.0     1                 2  \n",
       "46511            8.0  9999                 3  \n",
       "49640           38.0     1                 0  \n",
       "3321            93.0     1                 0  \n",
       "18729           88.0  9999                 2  "
      ]
     },
     "execution_count": 9,
     "metadata": {},
     "output_type": "execute_result"
    }
   ],
   "source": [
    "X1_train.head()"
   ]
  },
  {
   "cell_type": "code",
   "execution_count": 10,
   "metadata": {},
   "outputs": [
    {
     "data": {
      "text/plain": [
       "SVC(C=0.8, cache_size=200, class_weight=None, coef0=0.0,\n",
       "  decision_function_shape='ovr', degree=3, gamma='auto', kernel='rbf',\n",
       "  max_iter=-1, probability=True, random_state=None, shrinking=True,\n",
       "  tol=0.001, verbose=False)"
      ]
     },
     "execution_count": 10,
     "metadata": {},
     "output_type": "execute_result"
    }
   ],
   "source": [
    "SVM_Model"
   ]
  },
  {
   "cell_type": "code",
   "execution_count": 11,
   "metadata": {},
   "outputs": [
    {
     "data": {
      "image/png": "[encoded data removed]",
      "text/plain": [
       "<Figure size 432x288 with 1 Axes>"
      ]
     },
     "metadata": {},
     "output_type": "display_data"
    }
   ],
   "source": [
    "from sklearn.metrics import auc,roc_curve\n",
    "import matplotlib.pyplot as plt\n",
    "import statsmodels.api as sm\n",
    "\n",
    "\n",
    "y1_predicted = SVM_Model.predict_proba(X1_train)\n",
    "\n",
    "fpr, tpr, thresholds = roc_curve(Y1_train,y1_predicted[:,1], pos_label=1)\n",
    "auc_score = auc(fpr,tpr)\n",
    "w = tpr - fpr\n",
    "ks_score = w.max()\n",
    "ks_x = fpr[w.argmax()]\n",
    "ks_y = tpr[w.argmax()]\n",
    "fig,ax = plt.subplots()\n",
    "ax.plot(fpr,tpr,label='AUC=%.5f'%auc_score)\n",
    "ax.set_title('Receiver Operating Characteristic')\n",
    "ax.plot([0, 1], [0, 1], '--', color=(0.6, 0.6, 0.6))\n",
    "ax.plot([ks_x,ks_x], [ks_x,ks_y], '--', color='red')\n",
    "ax.text(ks_x,(ks_x+ks_y)/2,'  KS=%.5f'%ks_score)\n",
    "ax.legend()\n",
    "fig.show()  \n",
    "\n"
   ]
  },
  {
   "cell_type": "code",
   "execution_count": 12,
   "metadata": {},
   "outputs": [
    {
     "data": {
      "text/plain": [
       "34955.0"
      ]
     },
     "metadata": {},
     "output_type": "display_data"
    },
    {
     "data": {
      "text/plain": [
       "34955"
      ]
     },
     "metadata": {},
     "output_type": "display_data"
    }
   ],
   "source": [
    "display(y1_predicted.sum(),len(y1_predicted))"
   ]
  },
  {
   "cell_type": "code",
   "execution_count": 15,
   "metadata": {},
   "outputs": [
    {
     "data": {
      "image/png": "[encoded data removed]",
      "text/plain": [
       "<Figure size 432x288 with 1 Axes>"
      ]
     },
     "metadata": {},
     "output_type": "display_data"
    }
   ],
   "source": [
    "# 用在测试集上：\n",
    "\n",
    "y1_predicted = SVM_Model.predict_proba(X1_test)\n",
    "\n",
    "fpr, tpr, thresholds = roc_curve(Y1_test,y1_predicted[:,1], pos_label=1)\n",
    "auc_score = auc(fpr,tpr)\n",
    "w = tpr - fpr\n",
    "ks_score = w.max()\n",
    "ks_x = fpr[w.argmax()]\n",
    "ks_y = tpr[w.argmax()]\n",
    "fig,ax = plt.subplots()\n",
    "ax.plot(fpr,tpr,label='AUC=%.5f'%auc_score)\n",
    "ax.set_title('Receiver Operating Characteristic')\n",
    "ax.plot([0, 1], [0, 1], '--', color=(0.6, 0.6, 0.6))\n",
    "ax.plot([ks_x,ks_x], [ks_x,ks_y], '--', color='red')\n",
    "ax.text(ks_x,(ks_x+ks_y)/2,'  KS=%.5f'%ks_score)\n",
    "ax.legend()\n",
    "fig.show()  "
   ]
  },
  {
   "cell_type": "code",
   "execution_count": null,
   "metadata": {},
   "outputs": [],
   "source": [
    "Y1_test.value_counts()"
   ]
  },
  {
   "cell_type": "code",
   "execution_count": 172,
   "metadata": {},
   "outputs": [],
   "source": [
    "#使用神经网络来预测模型\n",
    "\n",
    "\n",
    "import sklearn\n",
    "from sklearn.neural_network import MLPClassifier\n",
    "\n",
    "import matplotlib.pyplot as plt\n",
    "from sklearn.model_selection import train_test_split\n",
    "from sklearn import datasets\n",
    "import pandas as pd\n",
    "import numpy\n",
    "\n",
    "\n",
    "model = MLPClassifier(activation='logistic', solver='adam', hidden_layer_sizes=(30, 30),alpha=0.00001,max_iter=90000000000)  # 神经网络\n",
    "neuralnetwork_model=model.fit(X1_train,Y1_train)\n"
   ]
  },
  {
   "cell_type": "code",
   "execution_count": 173,
   "metadata": {},
   "outputs": [
    {
     "data": {
      "image/png": "[encoded data removed]",
      "text/plain": [
       "<Figure size 432x288 with 1 Axes>"
      ]
     },
     "metadata": {},
     "output_type": "display_data"
    }
   ],
   "source": [
    "\n",
    "y1_predicted = neuralnetwork_model.predict_proba(X1_test)\n",
    "\n",
    "fpr, tpr, thresholds = roc_curve(Y1_test,y1_predicted[:,1], pos_label=1)\n",
    "auc_score = auc(fpr,tpr)\n",
    "w = tpr - fpr\n",
    "ks_score = w.max()\n",
    "ks_x = fpr[w.argmax()]\n",
    "ks_y = tpr[w.argmax()]\n",
    "fig,ax = plt.subplots()\n",
    "ax.plot(fpr,tpr,label='AUC=%.5f'%auc_score)\n",
    "ax.set_title('Receiver Operating Characteristic')\n",
    "ax.plot([0, 1], [0, 1], '--', color=(0.6, 0.6, 0.6))\n",
    "ax.plot([ks_x,ks_x], [ks_x,ks_y], '--', color='red')\n",
    "ax.text(ks_x,(ks_x+ks_y)/2,'  KS=%.5f'%ks_score)\n",
    "ax.legend()\n",
    "fig.show()  "
   ]
  },
  {
   "cell_type": "code",
   "execution_count": 174,
   "metadata": {},
   "outputs": [
    {
     "data": {
      "image/png": "[encoded data removed]",
      "text/plain": [
       "<Figure size 432x288 with 1 Axes>"
      ]
     },
     "metadata": {},
     "output_type": "display_data"
    }
   ],
   "source": [
    "y1_predicted = neuralnetwork_model.predict_proba(X1_train)\n",
    "\n",
    "fpr, tpr, thresholds = roc_curve(Y1_train,y1_predicted[:,1], pos_label=1)\n",
    "auc_score = auc(fpr,tpr)\n",
    "w = tpr - fpr\n",
    "ks_score = w.max()\n",
    "ks_x = fpr[w.argmax()]\n",
    "ks_y = tpr[w.argmax()]\n",
    "fig,ax = plt.subplots()\n",
    "ax.plot(fpr,tpr,label='AUC=%.5f'%auc_score)\n",
    "ax.set_title('Receiver Operating Characteristic')\n",
    "ax.plot([0, 1], [0, 1], '--', color=(0.6, 0.6, 0.6))\n",
    "ax.plot([ks_x,ks_x], [ks_x,ks_y], '--', color='red')\n",
    "ax.text(ks_x,(ks_x+ks_y)/2,'  KS=%.5f'%ks_score)\n",
    "ax.legend()\n",
    "fig.show()  "
   ]
  },
  {
   "cell_type": "code",
   "execution_count": 176,
   "metadata": {},
   "outputs": [
    {
     "data": {
      "text/plain": [
       "15"
      ]
     },
     "execution_count": 176,
     "metadata": {},
     "output_type": "execute_result"
    }
   ],
   "source": [
    "len(X1_train.columns)"
   ]
  },
  {
   "cell_type": "code",
   "execution_count": null,
   "metadata": {},
   "outputs": [],
   "source": []
  },
  {
   "cell_type": "code",
   "execution_count": null,
   "metadata": {},
   "outputs": [],
   "source": []
  },
  {
   "cell_type": "code",
   "execution_count": 199,
   "metadata": {},
   "outputs": [],
   "source": [
    "# 随机森林算法：\n",
    "import math\n",
    "\n",
    "\n",
    "from sklearn.ensemble import RandomForestClassifier\n",
    "\n",
    "model_RFC = RandomForestClassifier(n_estimators=500,max_features=math.ceil(math.sqrt(len(X1_train.columns))), max_depth=5,min_samples_split=2, bootstrap=True)\n",
    "\n",
    "randomforest_model_RFC=model_RFC.fit(X1_train, Y1_train)"
   ]
  },
  {
   "cell_type": "code",
   "execution_count": 200,
   "metadata": {},
   "outputs": [
    {
     "data": {
      "image/png": "[encoded data removed]",
      "text/plain": [
       "<Figure size 432x288 with 1 Axes>"
      ]
     },
     "metadata": {},
     "output_type": "display_data"
    }
   ],
   "source": [
    "y1_predicted = randomforest_model_RFC.predict_proba(X1_test)\n",
    "\n",
    "fpr, tpr, thresholds = roc_curve(Y1_test,y1_predicted[:,1], pos_label=1)\n",
    "auc_score = auc(fpr,tpr)\n",
    "w = tpr - fpr\n",
    "ks_score = w.max()\n",
    "ks_x = fpr[w.argmax()]\n",
    "ks_y = tpr[w.argmax()]\n",
    "fig,ax = plt.subplots()\n",
    "ax.plot(fpr,tpr,label='AUC=%.5f'%auc_score)\n",
    "ax.set_title('Receiver Operating Characteristic')\n",
    "ax.plot([0, 1], [0, 1], '--', color=(0.6, 0.6, 0.6))\n",
    "ax.plot([ks_x,ks_x], [ks_x,ks_y], '--', color='red')\n",
    "ax.text(ks_x,(ks_x+ks_y)/2,'  KS=%.5f'%ks_score)\n",
    "ax.legend()\n",
    "fig.show()  "
   ]
  },
  {
   "cell_type": "code",
   "execution_count": 201,
   "metadata": {},
   "outputs": [
    {
     "data": {
      "image/png": "[encoded data removed]",
      "text/plain": [
       "<Figure size 432x288 with 1 Axes>"
      ]
     },
     "metadata": {},
     "output_type": "display_data"
    }
   ],
   "source": [
    "y1_predicted = randomforest_model_RFC.predict_proba(X1_train)\n",
    "\n",
    "fpr, tpr, thresholds = roc_curve(Y1_train,y1_predicted[:,1], pos_label=1)\n",
    "auc_score = auc(fpr,tpr)\n",
    "w = tpr - fpr\n",
    "ks_score = w.max()\n",
    "ks_x = fpr[w.argmax()]\n",
    "ks_y = tpr[w.argmax()]\n",
    "fig,ax = plt.subplots()\n",
    "ax.plot(fpr,tpr,label='AUC=%.5f'%auc_score)\n",
    "ax.set_title('Receiver Operating Characteristic')\n",
    "ax.plot([0, 1], [0, 1], '--', color=(0.6, 0.6, 0.6))\n",
    "ax.plot([ks_x,ks_x], [ks_x,ks_y], '--', color='red')\n",
    "ax.text(ks_x,(ks_x+ks_y)/2,'  KS=%.5f'%ks_score)\n",
    "ax.legend()\n",
    "fig.show()  "
   ]
  },
  {
   "cell_type": "code",
   "execution_count": null,
   "metadata": {},
   "outputs": [],
   "source": []
  },
  {
   "cell_type": "code",
   "execution_count": null,
   "metadata": {},
   "outputs": [],
   "source": []
  },
  {
   "cell_type": "code",
   "execution_count": null,
   "metadata": {},
   "outputs": [],
   "source": []
  },
  {
   "cell_type": "code",
   "execution_count": null,
   "metadata": {},
   "outputs": [],
   "source": []
  },
  {
   "cell_type": "code",
   "execution_count": 77,
   "metadata": {
    "scrolled": true
   },
   "outputs": [
    {
     "data": {
      "text/plain": [
       "Index(['target', 'MESSAGE', 'arpu', 'arpu_avg', 'called', 'calling',\n",
       "       'card_type', 'gprs', 'netlong', 'myth_fee', 'myth_fee_avg',\n",
       "       'out_prdct_fee', 'point_fee', 'prdct_fee_avg', 'sex',\n",
       "       'owner_city_level'],\n",
       "      dtype='object')"
      ]
     },
     "execution_count": 77,
     "metadata": {},
     "output_type": "execute_result"
    }
   ],
   "source": [
    "Deal_ChuanQi_basic_df.columns"
   ]
  },
  {
   "cell_type": "code",
   "execution_count": 11,
   "metadata": {},
   "outputs": [
    {
     "name": "stdout",
     "output_type": "stream",
     "text": [
      "target 2\n",
      "MESSAGE 101\n",
      "arpu 13105\n",
      "arpu_avg 31794\n",
      "called 1547\n",
      "calling 1612\n",
      "card_type 3\n",
      "gprs 35939\n",
      "netlong 59\n",
      "myth_fee 2\n",
      "myth_fee_avg 2\n",
      "out_prdct_fee 2\n",
      "point_fee 3\n",
      "prdct_fee_avg 2600\n",
      "sex 3\n",
      "owner_city_level 4\n"
     ]
    }
   ],
   "source": [
    "for columns in ['target', 'MESSAGE', 'arpu', 'arpu_avg', 'called', 'calling',\n",
    "       'card_type', 'gprs', 'netlong', 'myth_fee', 'myth_fee_avg',\n",
    "       'out_prdct_fee', 'point_fee', 'prdct_fee_avg', 'sex',\n",
    "       'owner_city_level']:\n",
    "    print(columns,len(Deal_ChuanQi_basic_df[columns].value_counts()))"
   ]
  },
  {
   "cell_type": "code",
   "execution_count": 12,
   "metadata": {},
   "outputs": [
    {
     "name": "stdout",
     "output_type": "stream",
     "text": [
      "<class 'pandas.core.frame.DataFrame'>\n",
      "RangeIndex: 69910 entries, 0 to 69909\n",
      "Data columns (total 16 columns):\n",
      "target              69910 non-null int64\n",
      "MESSAGE             69910 non-null int64\n",
      "arpu                69910 non-null float64\n",
      "arpu_avg            69910 non-null float64\n",
      "called              69910 non-null int64\n",
      "calling             69910 non-null int64\n",
      "card_type           69910 non-null object\n",
      "gprs                69910 non-null float64\n",
      "netlong             69910 non-null int64\n",
      "myth_fee            69910 non-null object\n",
      "myth_fee_avg        69910 non-null object\n",
      "out_prdct_fee       69910 non-null object\n",
      "point_fee           69910 non-null object\n",
      "prdct_fee_avg       69910 non-null float64\n",
      "sex                 69910 non-null object\n",
      "owner_city_level    69910 non-null object\n",
      "dtypes: float64(4), int64(5), object(7)\n",
      "memory usage: 8.5+ MB\n"
     ]
    },
    {
     "data": {
      "text/plain": [
       "None"
      ]
     },
     "metadata": {},
     "output_type": "display_data"
    }
   ],
   "source": [
    "# 对模型的离散型变量进行虚拟变量处理：onehot编码需要str格式\n",
    "ClassifyColumnsList=['card_type', 'myth_fee',\n",
    "       'myth_fee_avg', 'out_prdct_fee', 'point_fee', 'sex',\n",
    "       'owner_city_level',]\n",
    "\n",
    "for ClassifyColumn in ClassifyColumnsList:\n",
    "    #print(ClassifyColumn,len(ChuanQi_basic_df[ClassifyColumn].value_counts()))\n",
    "    Deal_ChuanQi_basic_df[ClassifyColumn]=Deal_ChuanQi_basic_df[ClassifyColumn].astype('str')\n",
    "ConvertType_ChuanQi_basic_df = Deal_ChuanQi_basic_df[['target', 'MESSAGE', 'arpu', 'arpu_avg', 'called', 'calling',\n",
    "       'card_type', 'gprs', 'netlong', 'myth_fee', 'myth_fee_avg',\n",
    "       'out_prdct_fee', 'point_fee', 'prdct_fee_avg', 'sex',\n",
    "       'owner_city_level']]\n",
    "##筛选特定列\n",
    "display(ConvertType_ChuanQi_basic_df.info())"
   ]
  },
  {
   "cell_type": "code",
   "execution_count": 13,
   "metadata": {},
   "outputs": [
    {
     "data": {
      "text/plain": [
       "Index(['target', 'MESSAGE', 'arpu', 'arpu_avg', 'called', 'calling', 'gprs',\n",
       "       'netlong', 'prdct_fee_avg', 'card_type_0', 'card_type_1', 'card_type_2',\n",
       "       'myth_fee_0', 'myth_fee_9999', 'myth_fee_avg_0', 'myth_fee_avg_9999',\n",
       "       'out_prdct_fee_0', 'out_prdct_fee_9999', 'point_fee_0', 'point_fee_1',\n",
       "       'point_fee_9999', 'sex_0', 'sex_1', 'sex_9999', 'owner_city_level_0',\n",
       "       'owner_city_level_1', 'owner_city_level_2', 'owner_city_level_3'],\n",
       "      dtype='object')"
      ]
     },
     "execution_count": 13,
     "metadata": {},
     "output_type": "execute_result"
    }
   ],
   "source": [
    "OneHot_ChuanQi_basic_df=pd.get_dummies(ConvertType_ChuanQi_basic_df)\n",
    "OneHot_ChuanQi_basic_df.columns"
   ]
  },
  {
   "cell_type": "code",
   "execution_count": 14,
   "metadata": {},
   "outputs": [
    {
     "data": {
      "text/html": [
       "<div>\n",
       "<style scoped>\n",
       "    .dataframe tbody tr th:only-of-type {\n",
       "        vertical-align: middle;\n",
       "    }\n",
       "\n",
       "    .dataframe tbody tr th {\n",
       "        vertical-align: top;\n",
       "    }\n",
       "\n",
       "    .dataframe thead th {\n",
       "        text-align: right;\n",
       "    }\n",
       "</style>\n",
       "<table border=\"1\" class=\"dataframe\">\n",
       "  <thead>\n",
       "    <tr style=\"text-align: right;\">\n",
       "      <th></th>\n",
       "      <th>target</th>\n",
       "      <th>MESSAGE</th>\n",
       "      <th>arpu</th>\n",
       "      <th>arpu_avg</th>\n",
       "      <th>called</th>\n",
       "      <th>calling</th>\n",
       "      <th>gprs</th>\n",
       "      <th>netlong</th>\n",
       "      <th>prdct_fee_avg</th>\n",
       "      <th>card_type_0</th>\n",
       "      <th>...</th>\n",
       "      <th>point_fee_0</th>\n",
       "      <th>point_fee_1</th>\n",
       "      <th>point_fee_9999</th>\n",
       "      <th>sex_0</th>\n",
       "      <th>sex_1</th>\n",
       "      <th>sex_9999</th>\n",
       "      <th>owner_city_level_0</th>\n",
       "      <th>owner_city_level_1</th>\n",
       "      <th>owner_city_level_2</th>\n",
       "      <th>owner_city_level_3</th>\n",
       "    </tr>\n",
       "  </thead>\n",
       "  <tbody>\n",
       "    <tr>\n",
       "      <th>0</th>\n",
       "      <td>0</td>\n",
       "      <td>8</td>\n",
       "      <td>203.1</td>\n",
       "      <td>203.600001</td>\n",
       "      <td>258</td>\n",
       "      <td>211</td>\n",
       "      <td>5.8</td>\n",
       "      <td>58</td>\n",
       "      <td>199.0</td>\n",
       "      <td>1</td>\n",
       "      <td>...</td>\n",
       "      <td>0</td>\n",
       "      <td>1</td>\n",
       "      <td>0</td>\n",
       "      <td>0</td>\n",
       "      <td>0</td>\n",
       "      <td>1</td>\n",
       "      <td>0</td>\n",
       "      <td>0</td>\n",
       "      <td>1</td>\n",
       "      <td>0</td>\n",
       "    </tr>\n",
       "    <tr>\n",
       "      <th>1</th>\n",
       "      <td>0</td>\n",
       "      <td>0</td>\n",
       "      <td>0.0</td>\n",
       "      <td>0.000000</td>\n",
       "      <td>0</td>\n",
       "      <td>0</td>\n",
       "      <td>0.0</td>\n",
       "      <td>9</td>\n",
       "      <td>0.0</td>\n",
       "      <td>1</td>\n",
       "      <td>...</td>\n",
       "      <td>0</td>\n",
       "      <td>0</td>\n",
       "      <td>1</td>\n",
       "      <td>0</td>\n",
       "      <td>0</td>\n",
       "      <td>1</td>\n",
       "      <td>0</td>\n",
       "      <td>0</td>\n",
       "      <td>1</td>\n",
       "      <td>0</td>\n",
       "    </tr>\n",
       "    <tr>\n",
       "      <th>2</th>\n",
       "      <td>0</td>\n",
       "      <td>0</td>\n",
       "      <td>0.0</td>\n",
       "      <td>0.000000</td>\n",
       "      <td>0</td>\n",
       "      <td>0</td>\n",
       "      <td>0.0</td>\n",
       "      <td>6</td>\n",
       "      <td>0.0</td>\n",
       "      <td>0</td>\n",
       "      <td>...</td>\n",
       "      <td>1</td>\n",
       "      <td>0</td>\n",
       "      <td>0</td>\n",
       "      <td>0</td>\n",
       "      <td>0</td>\n",
       "      <td>1</td>\n",
       "      <td>0</td>\n",
       "      <td>0</td>\n",
       "      <td>1</td>\n",
       "      <td>0</td>\n",
       "    </tr>\n",
       "    <tr>\n",
       "      <th>3</th>\n",
       "      <td>0</td>\n",
       "      <td>32</td>\n",
       "      <td>124.9</td>\n",
       "      <td>123.166667</td>\n",
       "      <td>157</td>\n",
       "      <td>281</td>\n",
       "      <td>5.8</td>\n",
       "      <td>58</td>\n",
       "      <td>118.0</td>\n",
       "      <td>0</td>\n",
       "      <td>...</td>\n",
       "      <td>0</td>\n",
       "      <td>1</td>\n",
       "      <td>0</td>\n",
       "      <td>0</td>\n",
       "      <td>1</td>\n",
       "      <td>0</td>\n",
       "      <td>0</td>\n",
       "      <td>0</td>\n",
       "      <td>1</td>\n",
       "      <td>0</td>\n",
       "    </tr>\n",
       "    <tr>\n",
       "      <th>4</th>\n",
       "      <td>0</td>\n",
       "      <td>0</td>\n",
       "      <td>0.0</td>\n",
       "      <td>0.000000</td>\n",
       "      <td>0</td>\n",
       "      <td>0</td>\n",
       "      <td>0.0</td>\n",
       "      <td>12</td>\n",
       "      <td>0.0</td>\n",
       "      <td>0</td>\n",
       "      <td>...</td>\n",
       "      <td>0</td>\n",
       "      <td>0</td>\n",
       "      <td>1</td>\n",
       "      <td>0</td>\n",
       "      <td>0</td>\n",
       "      <td>1</td>\n",
       "      <td>0</td>\n",
       "      <td>0</td>\n",
       "      <td>1</td>\n",
       "      <td>0</td>\n",
       "    </tr>\n",
       "  </tbody>\n",
       "</table>\n",
       "<p>5 rows × 28 columns</p>\n",
       "</div>"
      ],
      "text/plain": [
       "   target  MESSAGE   arpu    arpu_avg  called  calling  gprs  netlong  \\\n",
       "0       0        8  203.1  203.600001     258      211   5.8       58   \n",
       "1       0        0    0.0    0.000000       0        0   0.0        9   \n",
       "2       0        0    0.0    0.000000       0        0   0.0        6   \n",
       "3       0       32  124.9  123.166667     157      281   5.8       58   \n",
       "4       0        0    0.0    0.000000       0        0   0.0       12   \n",
       "\n",
       "   prdct_fee_avg  card_type_0         ...          point_fee_0  point_fee_1  \\\n",
       "0          199.0            1         ...                    0            1   \n",
       "1            0.0            1         ...                    0            0   \n",
       "2            0.0            0         ...                    1            0   \n",
       "3          118.0            0         ...                    0            1   \n",
       "4            0.0            0         ...                    0            0   \n",
       "\n",
       "   point_fee_9999  sex_0  sex_1  sex_9999  owner_city_level_0  \\\n",
       "0               0      0      0         1                   0   \n",
       "1               1      0      0         1                   0   \n",
       "2               0      0      0         1                   0   \n",
       "3               0      0      1         0                   0   \n",
       "4               1      0      0         1                   0   \n",
       "\n",
       "   owner_city_level_1  owner_city_level_2  owner_city_level_3  \n",
       "0                   0                   1                   0  \n",
       "1                   0                   1                   0  \n",
       "2                   0                   1                   0  \n",
       "3                   0                   1                   0  \n",
       "4                   0                   1                   0  \n",
       "\n",
       "[5 rows x 28 columns]"
      ]
     },
     "execution_count": 14,
     "metadata": {},
     "output_type": "execute_result"
    }
   ],
   "source": [
    "OneHot_ChuanQi_basic_df.head()"
   ]
  },
  {
   "cell_type": "code",
   "execution_count": 15,
   "metadata": {},
   "outputs": [],
   "source": [
    "\n",
    "X_data = OneHot_ChuanQi_basic_df[[ 'MESSAGE', 'arpu', 'arpu_avg', 'called', 'calling', 'gprs',\n",
    "       'netlong', 'prdct_fee_avg', 'card_type_0', 'card_type_1', 'card_type_2',\n",
    "       'myth_fee_0', 'myth_fee_9999', 'myth_fee_avg_0', 'myth_fee_avg_9999',\n",
    "       'out_prdct_fee_0', 'out_prdct_fee_9999', 'point_fee_0', 'point_fee_1',\n",
    "       'point_fee_9999', 'sex_0', 'sex_1', 'sex_9999', 'owner_city_level_0',\n",
    "       'owner_city_level_1', 'owner_city_level_2', 'owner_city_level_3']]\n",
    "Y_data = OneHot_ChuanQi_basic_df['target']\n",
    "\n",
    "from sklearn.model_selection import train_test_split\n",
    "X_train, X_test, Y_train, Y_test = train_test_split(X_data, Y_data, test_size=0.5, random_state=0)\n"
   ]
  },
  {
   "cell_type": "code",
   "execution_count": 16,
   "metadata": {},
   "outputs": [
    {
     "data": {
      "text/plain": [
       "(34955, 27)"
      ]
     },
     "execution_count": 16,
     "metadata": {},
     "output_type": "execute_result"
    }
   ],
   "source": [
    "X_train.shape"
   ]
  },
  {
   "cell_type": "code",
   "execution_count": null,
   "metadata": {},
   "outputs": [],
   "source": [
    "\n",
    "from sklearn import svm\n",
    "from sklearn.metrics import accuracy_score\n",
    "from sklearn.metrics import confusion_matrix\n",
    "from sklearn.metrics import classification_report\n",
    "from sklearn.preprocessing import StandardScaler\n",
    "\n",
    "clf = svm.SVC(C=0.8, kernel='rbf',)\n",
    "\n",
    "clf.fit(X_train,Y_train)\n",
    "predict_results=clf.predict(X_test)\n",
    "print(accuracy_score(predict_results, Y_test))\n",
    "conf_mat = confusion_matrix(Y_test, predict_results)\n",
    "print(conf_mat)\n",
    "print(classification_report(Y_test, predict_results))\n"
   ]
  },
  {
   "cell_type": "code",
   "execution_count": null,
   "metadata": {},
   "outputs": [],
   "source": []
  },
  {
   "cell_type": "code",
   "execution_count": null,
   "metadata": {},
   "outputs": [],
   "source": []
  },
  {
   "cell_type": "code",
   "execution_count": null,
   "metadata": {},
   "outputs": [],
   "source": []
  },
  {
   "cell_type": "code",
   "execution_count": null,
   "metadata": {},
   "outputs": [],
   "source": []
  },
  {
   "cell_type": "code",
   "execution_count": null,
   "metadata": {},
   "outputs": [],
   "source": []
  },
  {
   "cell_type": "code",
   "execution_count": null,
   "metadata": {},
   "outputs": [],
   "source": []
  },
  {
   "cell_type": "code",
   "execution_count": null,
   "metadata": {},
   "outputs": [],
   "source": []
  },
  {
   "cell_type": "code",
   "execution_count": null,
   "metadata": {},
   "outputs": [],
   "source": []
  },
  {
   "cell_type": "code",
   "execution_count": null,
   "metadata": {},
   "outputs": [],
   "source": []
  },
  {
   "cell_type": "code",
   "execution_count": null,
   "metadata": {},
   "outputs": [],
   "source": []
  },
  {
   "cell_type": "code",
   "execution_count": null,
   "metadata": {},
   "outputs": [],
   "source": []
  },
  {
   "cell_type": "code",
   "execution_count": null,
   "metadata": {},
   "outputs": [],
   "source": []
  },
  {
   "cell_type": "code",
   "execution_count": null,
   "metadata": {},
   "outputs": [],
   "source": []
  },
  {
   "cell_type": "code",
   "execution_count": null,
   "metadata": {},
   "outputs": [],
   "source": []
  },
  {
   "cell_type": "code",
   "execution_count": null,
   "metadata": {},
   "outputs": [],
   "source": []
  },
  {
   "cell_type": "code",
   "execution_count": null,
   "metadata": {},
   "outputs": [],
   "source": []
  },
  {
   "cell_type": "code",
   "execution_count": null,
   "metadata": {},
   "outputs": [],
   "source": []
  },
  {
   "cell_type": "code",
   "execution_count": null,
   "metadata": {},
   "outputs": [],
   "source": []
  },
  {
   "cell_type": "code",
   "execution_count": null,
   "metadata": {},
   "outputs": [],
   "source": []
  },
  {
   "cell_type": "code",
   "execution_count": null,
   "metadata": {},
   "outputs": [],
   "source": []
  },
  {
   "cell_type": "code",
   "execution_count": null,
   "metadata": {},
   "outputs": [],
   "source": []
  },
  {
   "cell_type": "code",
   "execution_count": null,
   "metadata": {},
   "outputs": [],
   "source": []
  },
  {
   "cell_type": "code",
   "execution_count": null,
   "metadata": {},
   "outputs": [],
   "source": []
  },
  {
   "cell_type": "code",
   "execution_count": null,
   "metadata": {},
   "outputs": [],
   "source": []
  }
 ],
 "metadata": {
  "kernelspec": {
   "display_name": "Python 3",
   "language": "python",
   "name": "python3"
  },
  "language_info": {
   "codemirror_mode": {
    "name": "ipython",
    "version": 3
   },
   "file_extension": ".py",
   "mimetype": "text/x-python",
   "name": "python",
   "nbconvert_exporter": "python",
   "pygments_lexer": "ipython3",
   "version": "3.6.5"
  }
 },
 "nbformat": 4,
 "nbformat_minor": 2
}

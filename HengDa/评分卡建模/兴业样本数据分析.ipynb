{
 "cells": [
  {
   "cell_type": "code",
   "execution_count": 31,
   "metadata": {},
   "outputs": [],
   "source": [
    "import pandas as pd\n",
    "import numpy as np\n",
    "import matplotlib.pyplot as plt\n",
    "import seaborn as sns\n",
    "import random\n",
    "import missingno as msno\n",
    "import pandas_profiling\n",
    "import warnings\n",
    "warnings.filterwarnings(\"ignore\")\n",
    "%matplotlib inline\n",
    "#解决中文显示问题\n",
    "plt.rcParams[\"font.sans-serif\"] = [u\"SimHei\"]\n",
    "plt.rcParams[\"axes.unicode_minus\"] = False\n",
    "#解决图中负号问题\n",
    "plt.rcParams['axes.unicode_minus']=False"
   ]
  },
  {
   "cell_type": "code",
   "execution_count": 48,
   "metadata": {},
   "outputs": [],
   "source": [
    "origin_df=pd.read_excel('d:\\\\上海兴业银行样本造数.xlsx',header=0)"
   ]
  },
  {
   "cell_type": "code",
   "execution_count": 36,
   "metadata": {},
   "outputs": [
    {
     "data": {
      "text/plain": [
       "array([[<matplotlib.axes._subplots.AxesSubplot object at 0x000000001A619160>]],\n",
       "      dtype=object)"
      ]
     },
     "execution_count": 36,
     "metadata": {},
     "output_type": "execute_result"
    },
    {
     "data": {
      "image/png": "[encoded data removed]",
      "text/plain": [
       "<Figure size 432x288 with 1 Axes>"
      ]
     },
     "metadata": {},
     "output_type": "display_data"
    }
   ],
   "source": [
    "origin_df.hist('年龄')"
   ]
  },
  {
   "cell_type": "code",
   "execution_count": 37,
   "metadata": {},
   "outputs": [
    {
     "data": {
      "text/plain": [
       "array([[<matplotlib.axes._subplots.AxesSubplot object at 0x000000001D5C7C50>]],\n",
       "      dtype=object)"
      ]
     },
     "execution_count": 37,
     "metadata": {},
     "output_type": "execute_result"
    },
    {
     "data": {
      "image/png": "[encoded data removed]",
      "text/plain": [
       "<Figure size 432x288 with 1 Axes>"
      ]
     },
     "metadata": {},
     "output_type": "display_data"
    }
   ],
   "source": [
    "origin_df[origin_df['target']==1].hist('年龄')"
   ]
  },
  {
   "cell_type": "code",
   "execution_count": 38,
   "metadata": {},
   "outputs": [
    {
     "data": {
      "text/plain": [
       "array([[<matplotlib.axes._subplots.AxesSubplot object at 0x0000000013B444A8>]],\n",
       "      dtype=object)"
      ]
     },
     "execution_count": 38,
     "metadata": {},
     "output_type": "execute_result"
    },
    {
     "data": {
      "image/png": "[encoded data removed]",
      "text/plain": [
       "<Figure size 432x288 with 1 Axes>"
      ]
     },
     "metadata": {},
     "output_type": "display_data"
    }
   ],
   "source": [
    "origin_df[origin_df['target']==0].hist('年龄')"
   ]
  },
  {
   "cell_type": "code",
   "execution_count": 39,
   "metadata": {},
   "outputs": [],
   "source": [
    "def deal_age(rowdata):\n",
    "    if rowdata.年龄>0 and rowdata.年龄<=17:\n",
    "        return 1\n",
    "    if rowdata.年龄>17 and rowdata.年龄<=25:\n",
    "        return 2\n",
    "    if rowdata.年龄>25 and rowdata.年龄<=35:\n",
    "        return 3\n",
    "    if rowdata.年龄>35 and rowdata.年龄<=45:\n",
    "        return 4\n",
    "    if rowdata.年龄>45 and rowdata.年龄<=60:\n",
    "        return 5\n",
    "    if rowdata.年龄>60 and rowdata.年龄<=90:\n",
    "        return 6\n",
    "    \n",
    "origin_df['年龄']=origin_df.apply(deal_age,axis=1)"
   ]
  },
  {
   "cell_type": "code",
   "execution_count": 40,
   "metadata": {},
   "outputs": [
    {
     "data": {
      "text/plain": [
       "3.0    0.48233\n",
       "4.0    0.27845\n",
       "2.0    0.12530\n",
       "5.0    0.09420\n",
       "6.0    0.00972\n",
       "1.0    0.00948\n",
       "Name: 年龄, dtype: float64"
      ]
     },
     "execution_count": 40,
     "metadata": {},
     "output_type": "execute_result"
    }
   ],
   "source": [
    "origin_df['年龄'][origin_df['target']==0].value_counts()/100000"
   ]
  },
  {
   "cell_type": "code",
   "execution_count": 42,
   "metadata": {},
   "outputs": [
    {
     "data": {
      "text/plain": [
       "4.0    0.49160\n",
       "3.0    0.32010\n",
       "5.0    0.12955\n",
       "2.0    0.03720\n",
       "6.0    0.01085\n",
       "1.0    0.00985\n",
       "Name: 年龄, dtype: float64"
      ]
     },
     "execution_count": 42,
     "metadata": {},
     "output_type": "execute_result"
    }
   ],
   "source": [
    "origin_df['年龄'][origin_df['target']==1].value_counts()/20000"
   ]
  },
  {
   "cell_type": "code",
   "execution_count": 49,
   "metadata": {
    "scrolled": true
   },
   "outputs": [
    {
     "data": {
      "text/plain": [
       "(30.0, 34.0]      0.18235\n",
       "(26.0, 30.0]      0.18118\n",
       "(-0.001, 26.0]    0.18098\n",
       "(43.0, 90.0]      0.16459\n",
       "(37.0, 43.0]      0.16422\n",
       "(34.0, 37.0]      0.12668\n",
       "Name: 年龄, dtype: float64"
      ]
     },
     "execution_count": 49,
     "metadata": {},
     "output_type": "execute_result"
    }
   ],
   "source": [
    "pd.qcut(origin_df['年龄'][origin_df['target']==0],6).value_counts()/100000"
   ]
  },
  {
   "cell_type": "code",
   "execution_count": 50,
   "metadata": {},
   "outputs": [
    {
     "data": {
      "text/plain": [
       "(38.0, 42.0]      0.19285\n",
       "(-0.001, 30.0]    0.18730\n",
       "(30.0, 35.0]      0.18070\n",
       "(42.0, 45.0]      0.15630\n",
       "(35.0, 38.0]      0.14245\n",
       "(45.0, 90.0]      0.14040\n",
       "Name: 年龄, dtype: float64"
      ]
     },
     "execution_count": 50,
     "metadata": {},
     "output_type": "execute_result"
    }
   ],
   "source": [
    "pd.qcut(origin_df['年龄'][origin_df['target']==1],6).value_counts()/20000"
   ]
  },
  {
   "cell_type": "code",
   "execution_count": null,
   "metadata": {},
   "outputs": [],
   "source": []
  },
  {
   "cell_type": "code",
   "execution_count": null,
   "metadata": {},
   "outputs": [],
   "source": []
  }
 ],
 "metadata": {
  "kernelspec": {
   "display_name": "Python 3",
   "language": "python",
   "name": "python3"
  },
  "language_info": {
   "codemirror_mode": {
    "name": "ipython",
    "version": 3
   },
   "file_extension": ".py",
   "mimetype": "text/x-python",
   "name": "python",
   "nbconvert_exporter": "python",
   "pygments_lexer": "ipython3",
   "version": "3.6.5"
  }
 },
 "nbformat": 4,
 "nbformat_minor": 2
}
